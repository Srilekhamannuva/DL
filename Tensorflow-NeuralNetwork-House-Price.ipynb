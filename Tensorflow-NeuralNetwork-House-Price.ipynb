{
 "cells": [
  {
   "cell_type": "code",
   "execution_count": 1,
   "id": "93d717b7-df36-4a38-8645-6946e4dc6e91",
   "metadata": {},
   "outputs": [],
   "source": [
    "import numpy as np\n",
    "import pandas as pd\n",
    "import matplotlib.pyplot as plt\n",
    "%matplotlib inline"
   ]
  },
  {
   "cell_type": "code",
   "execution_count": 2,
   "id": "39b2d92c-a784-4848-a00a-b847b9ed9b43",
   "metadata": {},
   "outputs": [],
   "source": [
    "housetrain=pd.read_csv(\"C:\\\\Users\\\\srile\\\\Downloads\\\\House_Price_train(House_Price_train).csv\")"
   ]
  },
  {
   "cell_type": "code",
   "execution_count": 3,
   "id": "dc2c1a91-da1e-4344-832f-b8609d004d2e",
   "metadata": {},
   "outputs": [],
   "source": [
    "house_train_num=housetrain.select_dtypes(include=[np.number])"
   ]
  },
  {
   "cell_type": "code",
   "execution_count": 4,
   "id": "98033aff-bacb-40fe-9ca3-97cfb71f90ca",
   "metadata": {},
   "outputs": [],
   "source": [
    "house_train_cat=housetrain.select_dtypes(include=['object'])"
   ]
  },
  {
   "cell_type": "code",
   "execution_count": 5,
   "id": "c0df8fbb-5244-4dd5-a57a-80bdc0892249",
   "metadata": {},
   "outputs": [],
   "source": [
    "house_train_num_cols = house_train_num.columns"
   ]
  },
  {
   "cell_type": "code",
   "execution_count": 6,
   "id": "aed302a5-6b3a-40a8-b009-d16a60c4878b",
   "metadata": {},
   "outputs": [],
   "source": [
    "house_train_cat_cols = house_train_cat.columns"
   ]
  },
  {
   "cell_type": "code",
   "execution_count": 7,
   "id": "0f0ec214-7f57-45bb-95dd-e22a5482f334",
   "metadata": {},
   "outputs": [],
   "source": [
    "house_train_num_corr=house_train_num.corr()"
   ]
  },
  {
   "cell_type": "code",
   "execution_count": 8,
   "id": "4332d0ce-5d6c-4215-a76f-fc878be2dbeb",
   "metadata": {},
   "outputs": [],
   "source": [
    "house_train_num_cols0 = []\n",
    "house_train_num_cols0.extend(house_train_num_corr[(house_train_num_corr[\"SalePrice\"]>0.3) ].index.values)\n",
    "house_train_num_cols0.extend(house_train_num_corr[(house_train_num_corr[\"SalePrice\"]<-0.3) ].index.values)"
   ]
  },
  {
   "cell_type": "code",
   "execution_count": 9,
   "id": "bebf4f7f-4c3a-4b27-9c76-8e2586200b27",
   "metadata": {},
   "outputs": [],
   "source": [
    "h_train_num_col_filtered=house_train_num[house_train_num_cols0]"
   ]
  },
  {
   "cell_type": "code",
   "execution_count": 10,
   "id": "a5b3be1f-3e9f-40db-a7e4-7811c50502eb",
   "metadata": {},
   "outputs": [
    {
     "data": {
      "text/plain": [
       "LotFrontage     259\n",
       "GarageYrBlt      81\n",
       "MasVnrArea        8\n",
       "FullBath          0\n",
       "OpenPorchSF       0\n",
       "WoodDeckSF        0\n",
       "GarageArea        0\n",
       "GarageCars        0\n",
       "Fireplaces        0\n",
       "TotRmsAbvGrd      0\n",
       "GrLivArea         0\n",
       "OverallQual       0\n",
       "2ndFlrSF          0\n",
       "1stFlrSF          0\n",
       "TotalBsmtSF       0\n",
       "BsmtFinSF1        0\n",
       "YearRemodAdd      0\n",
       "YearBuilt         0\n",
       "SalePrice         0\n",
       "dtype: int64"
      ]
     },
     "execution_count": 10,
     "metadata": {},
     "output_type": "execute_result"
    }
   ],
   "source": [
    "(h_train_num_col_filtered.isnull().sum().sort_values(ascending=False))"
   ]
  },
  {
   "cell_type": "code",
   "execution_count": 11,
   "id": "af1b6e5b-041d-4bd1-b9a4-1206960b6cc6",
   "metadata": {},
   "outputs": [
    {
     "name": "stderr",
     "output_type": "stream",
     "text": [
      "C:\\Users\\srile\\AppData\\Local\\Temp\\ipykernel_10392\\1583005769.py:2: FutureWarning: A value is trying to be set on a copy of a DataFrame or Series through chained assignment using an inplace method.\n",
      "The behavior will change in pandas 3.0. This inplace method will never work because the intermediate object on which we are setting values always behaves as a copy.\n",
      "\n",
      "For example, when doing 'df[col].method(value, inplace=True)', try using 'df.method({col: value}, inplace=True)' or df[col] = df[col].method(value) instead, to perform the operation inplace on the original object.\n",
      "\n",
      "\n",
      "  h_train_num_col_filtered[col].fillna(h_train_num_col_filtered[col].median(),inplace=True)\n",
      "C:\\Users\\srile\\AppData\\Local\\Temp\\ipykernel_10392\\1583005769.py:2: SettingWithCopyWarning: \n",
      "A value is trying to be set on a copy of a slice from a DataFrame\n",
      "\n",
      "See the caveats in the documentation: https://pandas.pydata.org/pandas-docs/stable/user_guide/indexing.html#returning-a-view-versus-a-copy\n",
      "  h_train_num_col_filtered[col].fillna(h_train_num_col_filtered[col].median(),inplace=True)\n"
     ]
    }
   ],
   "source": [
    "for col in [\"LotFrontage\",\"GarageYrBlt\",\"MasVnrArea\"]:\n",
    "    h_train_num_col_filtered[col].fillna(h_train_num_col_filtered[col].median(),inplace=True)"
   ]
  },
  {
   "cell_type": "code",
   "execution_count": 12,
   "id": "0e7422c5-42db-48f1-bcda-f25588edf576",
   "metadata": {},
   "outputs": [
    {
     "data": {
      "text/plain": [
       "PoolQC           1453\n",
       "MiscFeature      1406\n",
       "Alley            1369\n",
       "Fence            1179\n",
       "MasVnrType        872\n",
       "FireplaceQu       690\n",
       "GarageType         81\n",
       "GarageCond         81\n",
       "GarageQual         81\n",
       "GarageFinish       81\n",
       "BsmtFinType2       38\n",
       "BsmtExposure       38\n",
       "BsmtFinType1       37\n",
       "BsmtQual           37\n",
       "BsmtCond           37\n",
       "Electrical          1\n",
       "KitchenQual         0\n",
       "CentralAir          0\n",
       "Functional          0\n",
       "HeatingQC           0\n",
       "Heating             0\n",
       "PavedDrive          0\n",
       "SaleType            0\n",
       "MSZoning            0\n",
       "Street              0\n",
       "Condition2          0\n",
       "LotShape            0\n",
       "LandContour         0\n",
       "Utilities           0\n",
       "LotConfig           0\n",
       "LandSlope           0\n",
       "Neighborhood        0\n",
       "Condition1          0\n",
       "BldgType            0\n",
       "Foundation          0\n",
       "HouseStyle          0\n",
       "RoofStyle           0\n",
       "RoofMatl            0\n",
       "Exterior1st         0\n",
       "Exterior2nd         0\n",
       "ExterQual           0\n",
       "ExterCond           0\n",
       "SaleCondition       0\n",
       "dtype: int64"
      ]
     },
     "execution_count": 12,
     "metadata": {},
     "output_type": "execute_result"
    }
   ],
   "source": [
    "(house_train_cat.isnull().sum().sort_values(ascending=False))"
   ]
  },
  {
   "cell_type": "code",
   "execution_count": 13,
   "id": "3d5b05f8-4278-431a-9cfa-0d53a47f4d85",
   "metadata": {},
   "outputs": [
    {
     "name": "stderr",
     "output_type": "stream",
     "text": [
      "C:\\Users\\srile\\AppData\\Local\\Temp\\ipykernel_10392\\3386200746.py:2: FutureWarning: A value is trying to be set on a copy of a DataFrame or Series through chained assignment using an inplace method.\n",
      "The behavior will change in pandas 3.0. This inplace method will never work because the intermediate object on which we are setting values always behaves as a copy.\n",
      "\n",
      "For example, when doing 'df[col].method(value, inplace=True)', try using 'df.method({col: value}, inplace=True)' or df[col] = df[col].method(value) instead, to perform the operation inplace on the original object.\n",
      "\n",
      "\n",
      "  house_train_cat[col].fillna('No Value',inplace=True)\n"
     ]
    }
   ],
   "source": [
    "for col in [\"PoolQC\",\"MiscFeature\",\"Alley\",\"Fence\",\"FireplaceQu\"]:\n",
    "    house_train_cat[col].fillna('No Value',inplace=True)"
   ]
  },
  {
   "cell_type": "code",
   "execution_count": 14,
   "id": "4ecf0956-ecb9-4963-8011-b582d078baac",
   "metadata": {},
   "outputs": [
    {
     "name": "stderr",
     "output_type": "stream",
     "text": [
      "C:\\Users\\srile\\AppData\\Local\\Temp\\ipykernel_10392\\648206534.py:2: FutureWarning: A value is trying to be set on a copy of a DataFrame or Series through chained assignment using an inplace method.\n",
      "The behavior will change in pandas 3.0. This inplace method will never work because the intermediate object on which we are setting values always behaves as a copy.\n",
      "\n",
      "For example, when doing 'df[col].method(value, inplace=True)', try using 'df.method({col: value}, inplace=True)' or df[col] = df[col].method(value) instead, to perform the operation inplace on the original object.\n",
      "\n",
      "\n",
      "  house_train_cat[col].fillna(house_train_cat[col].value_counts().idxmax(),inplace=True)\n",
      "C:\\Users\\srile\\AppData\\Local\\Temp\\ipykernel_10392\\648206534.py:2: FutureWarning: A value is trying to be set on a copy of a DataFrame or Series through chained assignment using an inplace method.\n",
      "The behavior will change in pandas 3.0. This inplace method will never work because the intermediate object on which we are setting values always behaves as a copy.\n",
      "\n",
      "For example, when doing 'df[col].method(value, inplace=True)', try using 'df.method({col: value}, inplace=True)' or df[col] = df[col].method(value) instead, to perform the operation inplace on the original object.\n",
      "\n",
      "\n",
      "  house_train_cat[col].fillna(house_train_cat[col].value_counts().idxmax(),inplace=True)\n",
      "C:\\Users\\srile\\AppData\\Local\\Temp\\ipykernel_10392\\648206534.py:2: FutureWarning: A value is trying to be set on a copy of a DataFrame or Series through chained assignment using an inplace method.\n",
      "The behavior will change in pandas 3.0. This inplace method will never work because the intermediate object on which we are setting values always behaves as a copy.\n",
      "\n",
      "For example, when doing 'df[col].method(value, inplace=True)', try using 'df.method({col: value}, inplace=True)' or df[col] = df[col].method(value) instead, to perform the operation inplace on the original object.\n",
      "\n",
      "\n",
      "  house_train_cat[col].fillna(house_train_cat[col].value_counts().idxmax(),inplace=True)\n",
      "C:\\Users\\srile\\AppData\\Local\\Temp\\ipykernel_10392\\648206534.py:2: FutureWarning: A value is trying to be set on a copy of a DataFrame or Series through chained assignment using an inplace method.\n",
      "The behavior will change in pandas 3.0. This inplace method will never work because the intermediate object on which we are setting values always behaves as a copy.\n",
      "\n",
      "For example, when doing 'df[col].method(value, inplace=True)', try using 'df.method({col: value}, inplace=True)' or df[col] = df[col].method(value) instead, to perform the operation inplace on the original object.\n",
      "\n",
      "\n",
      "  house_train_cat[col].fillna(house_train_cat[col].value_counts().idxmax(),inplace=True)\n",
      "C:\\Users\\srile\\AppData\\Local\\Temp\\ipykernel_10392\\648206534.py:2: FutureWarning: A value is trying to be set on a copy of a DataFrame or Series through chained assignment using an inplace method.\n",
      "The behavior will change in pandas 3.0. This inplace method will never work because the intermediate object on which we are setting values always behaves as a copy.\n",
      "\n",
      "For example, when doing 'df[col].method(value, inplace=True)', try using 'df.method({col: value}, inplace=True)' or df[col] = df[col].method(value) instead, to perform the operation inplace on the original object.\n",
      "\n",
      "\n",
      "  house_train_cat[col].fillna(house_train_cat[col].value_counts().idxmax(),inplace=True)\n",
      "C:\\Users\\srile\\AppData\\Local\\Temp\\ipykernel_10392\\648206534.py:2: FutureWarning: A value is trying to be set on a copy of a DataFrame or Series through chained assignment using an inplace method.\n",
      "The behavior will change in pandas 3.0. This inplace method will never work because the intermediate object on which we are setting values always behaves as a copy.\n",
      "\n",
      "For example, when doing 'df[col].method(value, inplace=True)', try using 'df.method({col: value}, inplace=True)' or df[col] = df[col].method(value) instead, to perform the operation inplace on the original object.\n",
      "\n",
      "\n",
      "  house_train_cat[col].fillna(house_train_cat[col].value_counts().idxmax(),inplace=True)\n",
      "C:\\Users\\srile\\AppData\\Local\\Temp\\ipykernel_10392\\648206534.py:2: FutureWarning: A value is trying to be set on a copy of a DataFrame or Series through chained assignment using an inplace method.\n",
      "The behavior will change in pandas 3.0. This inplace method will never work because the intermediate object on which we are setting values always behaves as a copy.\n",
      "\n",
      "For example, when doing 'df[col].method(value, inplace=True)', try using 'df.method({col: value}, inplace=True)' or df[col] = df[col].method(value) instead, to perform the operation inplace on the original object.\n",
      "\n",
      "\n",
      "  house_train_cat[col].fillna(house_train_cat[col].value_counts().idxmax(),inplace=True)\n",
      "C:\\Users\\srile\\AppData\\Local\\Temp\\ipykernel_10392\\648206534.py:2: FutureWarning: A value is trying to be set on a copy of a DataFrame or Series through chained assignment using an inplace method.\n",
      "The behavior will change in pandas 3.0. This inplace method will never work because the intermediate object on which we are setting values always behaves as a copy.\n",
      "\n",
      "For example, when doing 'df[col].method(value, inplace=True)', try using 'df.method({col: value}, inplace=True)' or df[col] = df[col].method(value) instead, to perform the operation inplace on the original object.\n",
      "\n",
      "\n",
      "  house_train_cat[col].fillna(house_train_cat[col].value_counts().idxmax(),inplace=True)\n",
      "C:\\Users\\srile\\AppData\\Local\\Temp\\ipykernel_10392\\648206534.py:2: FutureWarning: A value is trying to be set on a copy of a DataFrame or Series through chained assignment using an inplace method.\n",
      "The behavior will change in pandas 3.0. This inplace method will never work because the intermediate object on which we are setting values always behaves as a copy.\n",
      "\n",
      "For example, when doing 'df[col].method(value, inplace=True)', try using 'df.method({col: value}, inplace=True)' or df[col] = df[col].method(value) instead, to perform the operation inplace on the original object.\n",
      "\n",
      "\n",
      "  house_train_cat[col].fillna(house_train_cat[col].value_counts().idxmax(),inplace=True)\n",
      "C:\\Users\\srile\\AppData\\Local\\Temp\\ipykernel_10392\\648206534.py:2: FutureWarning: A value is trying to be set on a copy of a DataFrame or Series through chained assignment using an inplace method.\n",
      "The behavior will change in pandas 3.0. This inplace method will never work because the intermediate object on which we are setting values always behaves as a copy.\n",
      "\n",
      "For example, when doing 'df[col].method(value, inplace=True)', try using 'df.method({col: value}, inplace=True)' or df[col] = df[col].method(value) instead, to perform the operation inplace on the original object.\n",
      "\n",
      "\n",
      "  house_train_cat[col].fillna(house_train_cat[col].value_counts().idxmax(),inplace=True)\n",
      "C:\\Users\\srile\\AppData\\Local\\Temp\\ipykernel_10392\\648206534.py:2: FutureWarning: A value is trying to be set on a copy of a DataFrame or Series through chained assignment using an inplace method.\n",
      "The behavior will change in pandas 3.0. This inplace method will never work because the intermediate object on which we are setting values always behaves as a copy.\n",
      "\n",
      "For example, when doing 'df[col].method(value, inplace=True)', try using 'df.method({col: value}, inplace=True)' or df[col] = df[col].method(value) instead, to perform the operation inplace on the original object.\n",
      "\n",
      "\n",
      "  house_train_cat[col].fillna(house_train_cat[col].value_counts().idxmax(),inplace=True)\n"
     ]
    }
   ],
   "source": [
    "for col in [\"GarageCond\",\"GarageQual\",\"GarageFinish\",\"GarageType\",\"BsmtFinType2\",\"BsmtExposure\",\"BsmtFinType1\",\"BsmtQual\",\"BsmtCond\",\"MasVnrType\",\"Electrical\"]:\n",
    "    house_train_cat[col].fillna(house_train_cat[col].value_counts().idxmax(),inplace=True)"
   ]
  },
  {
   "cell_type": "code",
   "execution_count": 15,
   "id": "06c62e67-24d4-441b-986e-36a8c4f77a03",
   "metadata": {},
   "outputs": [],
   "source": [
    "df_0 = pd.concat([house_train_cat,h_train_num_col_filtered],axis=1)"
   ]
  },
  {
   "cell_type": "code",
   "execution_count": 16,
   "id": "65d6c30c-4986-4239-ada1-636c3714f1c4",
   "metadata": {},
   "outputs": [],
   "source": [
    "df_0_num = df_0.select_dtypes(include=[np.number])"
   ]
  },
  {
   "cell_type": "code",
   "execution_count": 17,
   "id": "88e0756b-77cc-4cb4-8c61-e1f73fd3e1a1",
   "metadata": {},
   "outputs": [],
   "source": [
    "df_0_cat =df_0.select_dtypes(include=['object'])"
   ]
  },
  {
   "cell_type": "code",
   "execution_count": 18,
   "id": "c69addf8-f024-487b-b479-86da933882af",
   "metadata": {},
   "outputs": [],
   "source": [
    "y = df_0[\"SalePrice\"]\n",
    "X = df_0.drop([\"SalePrice\"],axis=1)"
   ]
  },
  {
   "cell_type": "code",
   "execution_count": 19,
   "id": "26750829-94f7-49fd-bc87-7d2b7664ae51",
   "metadata": {},
   "outputs": [],
   "source": [
    "X1=pd.get_dummies(X)"
   ]
  },
  {
   "cell_type": "code",
   "execution_count": 20,
   "id": "a8edf00e-1efd-4fb7-9967-8e6a53c32c57",
   "metadata": {},
   "outputs": [],
   "source": [
    "x1_max=sorted(list(X1.max()))[-1]"
   ]
  },
  {
   "cell_type": "code",
   "execution_count": 21,
   "id": "f0f46254-7532-446f-aee9-36cb57c240dd",
   "metadata": {},
   "outputs": [],
   "source": [
    "y_max=sorted(list(y))[-1]"
   ]
  },
  {
   "cell_type": "code",
   "execution_count": 22,
   "id": "de2dd0a8-5779-41fb-951c-ae23acf9f7ef",
   "metadata": {},
   "outputs": [
    {
     "data": {
      "text/plain": [
       "(6110, 755000)"
      ]
     },
     "execution_count": 22,
     "metadata": {},
     "output_type": "execute_result"
    }
   ],
   "source": [
    "x1_max,y_max"
   ]
  },
  {
   "cell_type": "code",
   "execution_count": 23,
   "id": "567dc0d6-423d-47e1-9f31-1a038275eb52",
   "metadata": {},
   "outputs": [],
   "source": [
    "X1_scale = X1/x1_max"
   ]
  },
  {
   "cell_type": "code",
   "execution_count": 24,
   "id": "fe4de2fe-e47f-4b4d-8b09-3a04a24418a9",
   "metadata": {},
   "outputs": [],
   "source": [
    "y_scale = y/y_max"
   ]
  },
  {
   "cell_type": "code",
   "execution_count": 25,
   "id": "99aeb033-e264-47cd-bfa0-6169cb41f3f5",
   "metadata": {},
   "outputs": [],
   "source": [
    "np.random.seed(0)\n",
    "from sklearn.model_selection import train_test_split\n",
    "X_train, X_test, Y_train, Y_test = train_test_split(X1_scale, y_scale, test_size=0.10, random_state=73)"
   ]
  },
  {
   "cell_type": "code",
   "execution_count": 26,
   "id": "ad94d4fa-2a4d-4b57-8c94-275b36d874c8",
   "metadata": {},
   "outputs": [],
   "source": [
    "n_features = X_train.shape[1]\n",
    "\n",
    "# Neurons\n",
    "n_neurons_1 = 800\n",
    "n_neurons_2 = 1200\n",
    "n_neurons_3 = 2000\n",
    "n_neurons_4 = 1200\n",
    "n_neurons_5 = 800\n",
    "n_neurons_6 = 400\n"
   ]
  },
  {
   "cell_type": "code",
   "execution_count": 27,
   "id": "737ccabc-28ed-430e-affb-5cedd1e7f0d8",
   "metadata": {},
   "outputs": [],
   "source": [
    "import tensorflow as tf\n",
    "import numpy as np\n",
    "import pandas as pd\n",
    "\n",
    "import matplotlib.pyplot as plt\n",
    "import random"
   ]
  },
  {
   "cell_type": "code",
   "execution_count": 28,
   "id": "ad292ed7-0017-489b-a9e2-bbae968871af",
   "metadata": {},
   "outputs": [],
   "source": [
    "import tensorflow as tf"
   ]
  },
  {
   "cell_type": "code",
   "execution_count": 29,
   "id": "bc676c12-da3e-4fa1-9f70-86f03eed495f",
   "metadata": {},
   "outputs": [
    {
     "name": "stdout",
     "output_type": "stream",
     "text": [
      "WARNING:tensorflow:From C:\\Users\\srile\\AppData\\Roaming\\Python\\Python312\\site-packages\\keras\\src\\backend\\common\\global_state.py:82: The name tf.reset_default_graph is deprecated. Please use tf.compat.v1.reset_default_graph instead.\n",
      "\n",
      "Epoch 1/10\n",
      "\u001b[1m3/3\u001b[0m \u001b[32m━━━━━━━━━━━━━━━━━━━━\u001b[0m\u001b[37m\u001b[0m \u001b[1m1s\u001b[0m 149ms/step - loss: 0.3211\n",
      "Epoch 2/10\n",
      "\u001b[1m3/3\u001b[0m \u001b[32m━━━━━━━━━━━━━━━━━━━━\u001b[0m\u001b[37m\u001b[0m \u001b[1m0s\u001b[0m 153ms/step - loss: 0.2906\n",
      "Epoch 3/10\n",
      "\u001b[1m3/3\u001b[0m \u001b[32m━━━━━━━━━━━━━━━━━━━━\u001b[0m\u001b[37m\u001b[0m \u001b[1m0s\u001b[0m 157ms/step - loss: 0.2708\n",
      "Epoch 4/10\n",
      "\u001b[1m3/3\u001b[0m \u001b[32m━━━━━━━━━━━━━━━━━━━━\u001b[0m\u001b[37m\u001b[0m \u001b[1m0s\u001b[0m 152ms/step - loss: 0.2467\n",
      "Epoch 5/10\n",
      "\u001b[1m3/3\u001b[0m \u001b[32m━━━━━━━━━━━━━━━━━━━━\u001b[0m\u001b[37m\u001b[0m \u001b[1m0s\u001b[0m 168ms/step - loss: 0.2218\n",
      "Epoch 6/10\n",
      "\u001b[1m3/3\u001b[0m \u001b[32m━━━━━━━━━━━━━━━━━━━━\u001b[0m\u001b[37m\u001b[0m \u001b[1m0s\u001b[0m 159ms/step - loss: 0.1924\n",
      "Epoch 7/10\n",
      "\u001b[1m3/3\u001b[0m \u001b[32m━━━━━━━━━━━━━━━━━━━━\u001b[0m\u001b[37m\u001b[0m \u001b[1m1s\u001b[0m 159ms/step - loss: 0.1602\n",
      "Epoch 8/10\n",
      "\u001b[1m3/3\u001b[0m \u001b[32m━━━━━━━━━━━━━━━━━━━━\u001b[0m\u001b[37m\u001b[0m \u001b[1m0s\u001b[0m 147ms/step - loss: 0.1282\n",
      "Epoch 9/10\n",
      "\u001b[1m3/3\u001b[0m \u001b[32m━━━━━━━━━━━━━━━━━━━━\u001b[0m\u001b[37m\u001b[0m \u001b[1m0s\u001b[0m 152ms/step - loss: 0.0988\n",
      "Epoch 10/10\n",
      "\u001b[1m3/3\u001b[0m \u001b[32m━━━━━━━━━━━━━━━━━━━━\u001b[0m\u001b[37m\u001b[0m \u001b[1m0s\u001b[0m 159ms/step - loss: 0.0761\n"
     ]
    },
    {
     "data": {
      "text/plain": [
       "<keras.src.callbacks.history.History at 0x2c85ec76480>"
      ]
     },
     "execution_count": 29,
     "metadata": {},
     "output_type": "execute_result"
    }
   ],
   "source": [
    "import tensorflow as tf\n",
    "import numpy as np\n",
    "\n",
    "# Ensure eager execution\n",
    "tf.keras.backend.clear_session()\n",
    "tf.config.run_functions_eagerly(True)\n",
    "assert tf.executing_eagerly()\n",
    "\n",
    "# Define input shape\n",
    "n_features = 10\n",
    "n_neurons_1 = 64\n",
    "n_neurons_2 = 64\n",
    "n_neurons_3 = 32\n",
    "n_neurons_4 = 32\n",
    "n_neurons_5 = 16\n",
    "n_neurons_6 = 8\n",
    "\n",
    "# Initializers\n",
    "sigma = 1\n",
    "weight_initializer = tf.keras.initializers.VarianceScaling(mode=\"fan_avg\", distribution=\"uniform\", scale=sigma)\n",
    "bias_initializer = tf.keras.initializers.Zeros()\n",
    "\n",
    "# Define the model\n",
    "class NeuralNetwork(tf.keras.Model):\n",
    "    def __init__(self):\n",
    "        super(NeuralNetwork, self).__init__()\n",
    "        self.hidden_1 = tf.keras.layers.Dense(n_neurons_1, activation='relu', kernel_initializer=weight_initializer, bias_initializer=bias_initializer)\n",
    "        self.hidden_2 = tf.keras.layers.Dense(n_neurons_2, activation='relu', kernel_initializer=weight_initializer, bias_initializer=bias_initializer)\n",
    "        self.hidden_3 = tf.keras.layers.Dense(n_neurons_3, activation='relu', kernel_initializer=weight_initializer, bias_initializer=bias_initializer)\n",
    "        self.hidden_4 = tf.keras.layers.Dense(n_neurons_4, activation='relu', kernel_initializer=weight_initializer, bias_initializer=bias_initializer)\n",
    "        self.hidden_5 = tf.keras.layers.Dense(n_neurons_5, activation='relu', kernel_initializer=weight_initializer, bias_initializer=bias_initializer)\n",
    "        self.hidden_6 = tf.keras.layers.Dense(n_neurons_6, activation='relu', kernel_initializer=weight_initializer, bias_initializer=bias_initializer)\n",
    "        self.output_layer = tf.keras.layers.Dense(1, kernel_initializer=weight_initializer, bias_initializer=bias_initializer)\n",
    "    \n",
    "    def call(self, inputs):\n",
    "        x = self.hidden_1(inputs)\n",
    "        x = self.hidden_2(x)\n",
    "        x = self.hidden_3(x)\n",
    "        x = self.hidden_4(x)\n",
    "        x = self.hidden_5(x)\n",
    "        x = self.hidden_6(x)\n",
    "        return self.output_layer(x)\n",
    "\n",
    "# Create the model\n",
    "model = NeuralNetwork()\n",
    "\n",
    "# Loss function and optimizer\n",
    "loss_fn = tf.keras.losses.MeanSquaredError()\n",
    "optimizer = tf.keras.optimizers.Adam()\n",
    "\n",
    "# Compile the model\n",
    "model.compile(optimizer=optimizer, loss=loss_fn)\n",
    "\n",
    "# Example input\n",
    "X_sample = np.random.rand(5, n_features).astype(np.float32)\n",
    "Y_sample = np.random.rand(5, 1).astype(np.float32)  # Ensure correct shape\n",
    "\n",
    "# Convert to tf.data.Dataset\n",
    "dataset = tf.data.Dataset.from_tensor_slices((X_sample, Y_sample)).batch(2)\n",
    "\n",
    "# Train the model\n",
    "model.fit(dataset, epochs=10, verbose=1)\n"
   ]
  },
  {
   "cell_type": "code",
   "execution_count": null,
   "id": "ff8e7ed6-9303-476a-b4d2-3864935306bf",
   "metadata": {},
   "outputs": [
    {
     "name": "stderr",
     "output_type": "stream",
     "text": [
      "C:\\Users\\srile\\AppData\\Roaming\\Python\\Python312\\site-packages\\keras\\src\\layers\\core\\dense.py:87: UserWarning: Do not pass an `input_shape`/`input_dim` argument to a layer. When using Sequential models, prefer using an `Input(shape)` object as the first layer in the model instead.\n",
      "  super().__init__(activity_regularizer=activity_regularizer, **kwargs)\n",
      "C:\\Users\\srile\\AppData\\Roaming\\Python\\Python312\\site-packages\\tensorflow\\python\\data\\ops\\structured_function.py:258: UserWarning: Even though the `tf.config.experimental_run_functions_eagerly` option is set, this option does not apply to tf.data functions. To force eager execution of tf.data functions, please use `tf.data.experimental.enable_debug_mode()`.\n",
      "  warnings.warn(\n"
     ]
    }
   ],
   "source": [
    "import numpy as np\n",
    "from sklearn.model_selection import train_test_split\n",
    "from tensorflow import keras\n",
    "from tensorflow.keras.layers import Dense\n",
    "\n",
    "# Generate some sample data\n",
    "X = np.random.rand(100, 10)  # 100 samples, 10 features\n",
    "Y = np.random.rand(100, 1)   # 100 target values\n",
    "\n",
    "# Split into training and testing sets\n",
    "X_train, X_test, Y_train, Y_test = train_test_split(X, Y, test_size=0.2, random_state=42)\n",
    "\n",
    "# Define a simple neural network model\n",
    "net = keras.Sequential([\n",
    "    Dense(64, activation='relu', input_shape=(10,)),  # Input layer with 10 features\n",
    "    Dense(1)  # Output layer\n",
    "])\n",
    "\n",
    "# Compile the model\n",
    "net.compile(optimizer='adam', loss='mse')\n",
    "\n",
    "# Train the model\n",
    "epochs = 1000\n",
    "for e in range(epochs):\n",
    "    net.fit(X_train, Y_train, epochs=1, verbose=0)  # Training step\n"
   ]
  },
  {
   "cell_type": "code",
   "execution_count": null,
   "id": "79075bd3-6655-4fd6-b407-097350f505bb",
   "metadata": {},
   "outputs": [],
   "source": [
    "pred = net.predict(X_test)"
   ]
  },
  {
   "cell_type": "code",
   "execution_count": null,
   "id": "e34aa343-236f-40dd-872d-9ab8c988f5a3",
   "metadata": {},
   "outputs": [],
   "source": [
    "from sklearn.metrics import  r2_score"
   ]
  },
  {
   "cell_type": "code",
   "execution_count": null,
   "id": "736eb39d-c3fd-4ebe-900c-41c9b0a2d389",
   "metadata": {},
   "outputs": [],
   "source": [
    "from sklearn.metrics import r2_score\n",
    "\n",
    "r2 = r2_score(Y_test, pred)  # Ensure correct order: (y_true, y_pred)\n",
    "print(\"R2 Score:\", r2)\n"
   ]
  }
 ],
 "metadata": {
  "kernelspec": {
   "display_name": "Python 3 (ipykernel)",
   "language": "python",
   "name": "python3"
  },
  "language_info": {
   "codemirror_mode": {
    "name": "ipython",
    "version": 3
   },
   "file_extension": ".py",
   "mimetype": "text/x-python",
   "name": "python",
   "nbconvert_exporter": "python",
   "pygments_lexer": "ipython3",
   "version": "3.12.7"
  }
 },
 "nbformat": 4,
 "nbformat_minor": 5
}
