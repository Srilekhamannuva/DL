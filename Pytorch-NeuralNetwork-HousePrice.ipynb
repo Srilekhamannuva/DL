{
 "cells": [
  {
   "cell_type": "code",
   "execution_count": 1,
   "id": "73c79de1-59e0-49bf-bed8-3f96cc253e69",
   "metadata": {},
   "outputs": [],
   "source": [
    "import  numpy as np\n",
    "import pandas as pd\n",
    "import matplotlib.pyplot as plt\n",
    "%matplotlib inline"
   ]
  },
  {
   "cell_type": "code",
   "execution_count": 2,
   "id": "63caa58c-ab99-492c-b1e6-b70ebf8a8f48",
   "metadata": {},
   "outputs": [],
   "source": [
    "house_train=pd.read_csv(\"C:\\\\Users\\\\srile\\\\Downloads\\\\House_Price_train(House_Price_train).csv\")"
   ]
  },
  {
   "cell_type": "code",
   "execution_count": 3,
   "id": "2f8b9768-6504-4770-914f-b8ecd6a16475",
   "metadata": {},
   "outputs": [],
   "source": [
    "house_train_num=house_train.select_dtypes(include=[np.number])"
   ]
  },
  {
   "cell_type": "raw",
   "id": "d4d9354a-5e01-43c1-bd49-9d0881238991",
   "metadata": {},
   "source": [
    "house_train_cat=housetrain.select_dtypes(include=['object'])"
   ]
  },
  {
   "cell_type": "code",
   "execution_count": 4,
   "id": "af80e58d-994a-4af6-9f04-ae74674aaa11",
   "metadata": {},
   "outputs": [],
   "source": [
    "house_train_num_cols = house_train_num.columns"
   ]
  },
  {
   "cell_type": "code",
   "execution_count": 7,
   "id": "aeccd276-da5e-4dbf-bc55-b58c27be24fa",
   "metadata": {},
   "outputs": [
    {
     "name": "stdout",
     "output_type": "stream",
     "text": [
      "Index(['MSZoning', 'Street', 'Alley', 'LotShape', 'LandContour', 'Utilities',\n",
      "       'LotConfig', 'LandSlope', 'Neighborhood', 'Condition1', 'Condition2',\n",
      "       'BldgType', 'HouseStyle', 'RoofStyle', 'RoofMatl', 'Exterior1st',\n",
      "       'Exterior2nd', 'MasVnrType', 'ExterQual', 'ExterCond', 'Foundation',\n",
      "       'BsmtQual', 'BsmtCond', 'BsmtExposure', 'BsmtFinType1', 'BsmtFinType2',\n",
      "       'Heating', 'HeatingQC', 'CentralAir', 'Electrical', 'KitchenQual',\n",
      "       'Functional', 'FireplaceQu', 'GarageType', 'GarageFinish', 'GarageQual',\n",
      "       'GarageCond', 'PavedDrive', 'PoolQC', 'Fence', 'MiscFeature',\n",
      "       'SaleType', 'SaleCondition'],\n",
      "      dtype='object')\n"
     ]
    }
   ],
   "source": [
    "house_train_cat = house_train.select_dtypes(include=['object'])  \n",
    "\n",
    "# Now, get column names\n",
    "house_train_cat_cols = house_train_cat.columns\n",
    "print(house_train_cat_cols)"
   ]
  },
  {
   "cell_type": "code",
   "execution_count": 8,
   "id": "ef607edd-f841-4db6-a0b9-238255f206e0",
   "metadata": {},
   "outputs": [],
   "source": [
    "house_train_num_corr=house_train_num.corr()"
   ]
  },
  {
   "cell_type": "code",
   "execution_count": 9,
   "id": "b1c16a7f-909c-4857-afde-f9549e8a0f99",
   "metadata": {},
   "outputs": [],
   "source": [
    "house_train_num_cols0 = []\n",
    "house_train_num_cols0.extend(house_train_num_corr[(house_train_num_corr[\"SalePrice\"]>0.3) ].index.values)\n",
    "house_train_num_cols0.extend(house_train_num_corr[(house_train_num_corr[\"SalePrice\"]<-0.3) ].index.values)"
   ]
  },
  {
   "cell_type": "code",
   "execution_count": 10,
   "id": "d7f05e8a-d868-4698-bae7-3638c5850b92",
   "metadata": {},
   "outputs": [],
   "source": [
    "h_train_num_col_filtered=house_train_num[house_train_num_cols0]"
   ]
  },
  {
   "cell_type": "code",
   "execution_count": 11,
   "id": "306d57a6-c1ab-409a-9324-885d21b861fc",
   "metadata": {},
   "outputs": [
    {
     "data": {
      "text/plain": [
       "LotFrontage     259\n",
       "GarageYrBlt      81\n",
       "MasVnrArea        8\n",
       "FullBath          0\n",
       "OpenPorchSF       0\n",
       "WoodDeckSF        0\n",
       "GarageArea        0\n",
       "GarageCars        0\n",
       "Fireplaces        0\n",
       "TotRmsAbvGrd      0\n",
       "GrLivArea         0\n",
       "OverallQual       0\n",
       "2ndFlrSF          0\n",
       "1stFlrSF          0\n",
       "TotalBsmtSF       0\n",
       "BsmtFinSF1        0\n",
       "YearRemodAdd      0\n",
       "YearBuilt         0\n",
       "SalePrice         0\n",
       "dtype: int64"
      ]
     },
     "execution_count": 11,
     "metadata": {},
     "output_type": "execute_result"
    }
   ],
   "source": [
    "(h_train_num_col_filtered.isnull().sum().sort_values(ascending=False))\n"
   ]
  },
  {
   "cell_type": "code",
   "execution_count": 12,
   "id": "9cae706d-2a2a-4510-9bbc-a79235d52f04",
   "metadata": {},
   "outputs": [
    {
     "name": "stderr",
     "output_type": "stream",
     "text": [
      "C:\\Users\\srile\\AppData\\Local\\Temp\\ipykernel_20928\\1583005769.py:2: FutureWarning: A value is trying to be set on a copy of a DataFrame or Series through chained assignment using an inplace method.\n",
      "The behavior will change in pandas 3.0. This inplace method will never work because the intermediate object on which we are setting values always behaves as a copy.\n",
      "\n",
      "For example, when doing 'df[col].method(value, inplace=True)', try using 'df.method({col: value}, inplace=True)' or df[col] = df[col].method(value) instead, to perform the operation inplace on the original object.\n",
      "\n",
      "\n",
      "  h_train_num_col_filtered[col].fillna(h_train_num_col_filtered[col].median(),inplace=True)\n",
      "C:\\Users\\srile\\AppData\\Local\\Temp\\ipykernel_20928\\1583005769.py:2: SettingWithCopyWarning: \n",
      "A value is trying to be set on a copy of a slice from a DataFrame\n",
      "\n",
      "See the caveats in the documentation: https://pandas.pydata.org/pandas-docs/stable/user_guide/indexing.html#returning-a-view-versus-a-copy\n",
      "  h_train_num_col_filtered[col].fillna(h_train_num_col_filtered[col].median(),inplace=True)\n"
     ]
    }
   ],
   "source": [
    "for col in [\"LotFrontage\",\"GarageYrBlt\",\"MasVnrArea\"]:\n",
    "    h_train_num_col_filtered[col].fillna(h_train_num_col_filtered[col].median(),inplace=True)"
   ]
  },
  {
   "cell_type": "code",
   "execution_count": 13,
   "id": "a97ea02e-7fac-49ee-bd24-42eb7a2ddc07",
   "metadata": {},
   "outputs": [
    {
     "data": {
      "text/plain": [
       "PoolQC           1453\n",
       "MiscFeature      1406\n",
       "Alley            1369\n",
       "Fence            1179\n",
       "MasVnrType        872\n",
       "FireplaceQu       690\n",
       "GarageType         81\n",
       "GarageCond         81\n",
       "GarageQual         81\n",
       "GarageFinish       81\n",
       "BsmtFinType2       38\n",
       "BsmtExposure       38\n",
       "BsmtFinType1       37\n",
       "BsmtQual           37\n",
       "BsmtCond           37\n",
       "Electrical          1\n",
       "KitchenQual         0\n",
       "CentralAir          0\n",
       "Functional          0\n",
       "HeatingQC           0\n",
       "Heating             0\n",
       "PavedDrive          0\n",
       "SaleType            0\n",
       "MSZoning            0\n",
       "Street              0\n",
       "Condition2          0\n",
       "LotShape            0\n",
       "LandContour         0\n",
       "Utilities           0\n",
       "LotConfig           0\n",
       "LandSlope           0\n",
       "Neighborhood        0\n",
       "Condition1          0\n",
       "BldgType            0\n",
       "Foundation          0\n",
       "HouseStyle          0\n",
       "RoofStyle           0\n",
       "RoofMatl            0\n",
       "Exterior1st         0\n",
       "Exterior2nd         0\n",
       "ExterQual           0\n",
       "ExterCond           0\n",
       "SaleCondition       0\n",
       "dtype: int64"
      ]
     },
     "execution_count": 13,
     "metadata": {},
     "output_type": "execute_result"
    }
   ],
   "source": [
    "(house_train_cat.isnull().sum().sort_values(ascending=False))"
   ]
  },
  {
   "cell_type": "code",
   "execution_count": 14,
   "id": "d053b1cd-a47a-452f-8ee5-fdc4c4973cda",
   "metadata": {},
   "outputs": [
    {
     "name": "stderr",
     "output_type": "stream",
     "text": [
      "C:\\Users\\srile\\AppData\\Local\\Temp\\ipykernel_20928\\1310196780.py:2: FutureWarning: A value is trying to be set on a copy of a DataFrame or Series through chained assignment using an inplace method.\n",
      "The behavior will change in pandas 3.0. This inplace method will never work because the intermediate object on which we are setting values always behaves as a copy.\n",
      "\n",
      "For example, when doing 'df[col].method(value, inplace=True)', try using 'df.method({col: value}, inplace=True)' or df[col] = df[col].method(value) instead, to perform the operation inplace on the original object.\n",
      "\n",
      "\n",
      "  house_train_cat[col].fillna('No Value',inplace=True)\n"
     ]
    }
   ],
   "source": [
    "\n",
    "for col in [\"PoolQC\",\"MiscFeature\",\"Alley\",\"Fence\",\"FireplaceQu\"]:\n",
    "    house_train_cat[col].fillna('No Value',inplace=True)"
   ]
  },
  {
   "cell_type": "code",
   "execution_count": 15,
   "id": "9c273c46-c1d3-4af1-b618-ba1f29c1e102",
   "metadata": {},
   "outputs": [
    {
     "name": "stderr",
     "output_type": "stream",
     "text": [
      "C:\\Users\\srile\\AppData\\Local\\Temp\\ipykernel_20928\\648206534.py:2: FutureWarning: A value is trying to be set on a copy of a DataFrame or Series through chained assignment using an inplace method.\n",
      "The behavior will change in pandas 3.0. This inplace method will never work because the intermediate object on which we are setting values always behaves as a copy.\n",
      "\n",
      "For example, when doing 'df[col].method(value, inplace=True)', try using 'df.method({col: value}, inplace=True)' or df[col] = df[col].method(value) instead, to perform the operation inplace on the original object.\n",
      "\n",
      "\n",
      "  house_train_cat[col].fillna(house_train_cat[col].value_counts().idxmax(),inplace=True)\n",
      "C:\\Users\\srile\\AppData\\Local\\Temp\\ipykernel_20928\\648206534.py:2: FutureWarning: A value is trying to be set on a copy of a DataFrame or Series through chained assignment using an inplace method.\n",
      "The behavior will change in pandas 3.0. This inplace method will never work because the intermediate object on which we are setting values always behaves as a copy.\n",
      "\n",
      "For example, when doing 'df[col].method(value, inplace=True)', try using 'df.method({col: value}, inplace=True)' or df[col] = df[col].method(value) instead, to perform the operation inplace on the original object.\n",
      "\n",
      "\n",
      "  house_train_cat[col].fillna(house_train_cat[col].value_counts().idxmax(),inplace=True)\n",
      "C:\\Users\\srile\\AppData\\Local\\Temp\\ipykernel_20928\\648206534.py:2: FutureWarning: A value is trying to be set on a copy of a DataFrame or Series through chained assignment using an inplace method.\n",
      "The behavior will change in pandas 3.0. This inplace method will never work because the intermediate object on which we are setting values always behaves as a copy.\n",
      "\n",
      "For example, when doing 'df[col].method(value, inplace=True)', try using 'df.method({col: value}, inplace=True)' or df[col] = df[col].method(value) instead, to perform the operation inplace on the original object.\n",
      "\n",
      "\n",
      "  house_train_cat[col].fillna(house_train_cat[col].value_counts().idxmax(),inplace=True)\n",
      "C:\\Users\\srile\\AppData\\Local\\Temp\\ipykernel_20928\\648206534.py:2: FutureWarning: A value is trying to be set on a copy of a DataFrame or Series through chained assignment using an inplace method.\n",
      "The behavior will change in pandas 3.0. This inplace method will never work because the intermediate object on which we are setting values always behaves as a copy.\n",
      "\n",
      "For example, when doing 'df[col].method(value, inplace=True)', try using 'df.method({col: value}, inplace=True)' or df[col] = df[col].method(value) instead, to perform the operation inplace on the original object.\n",
      "\n",
      "\n",
      "  house_train_cat[col].fillna(house_train_cat[col].value_counts().idxmax(),inplace=True)\n",
      "C:\\Users\\srile\\AppData\\Local\\Temp\\ipykernel_20928\\648206534.py:2: FutureWarning: A value is trying to be set on a copy of a DataFrame or Series through chained assignment using an inplace method.\n",
      "The behavior will change in pandas 3.0. This inplace method will never work because the intermediate object on which we are setting values always behaves as a copy.\n",
      "\n",
      "For example, when doing 'df[col].method(value, inplace=True)', try using 'df.method({col: value}, inplace=True)' or df[col] = df[col].method(value) instead, to perform the operation inplace on the original object.\n",
      "\n",
      "\n",
      "  house_train_cat[col].fillna(house_train_cat[col].value_counts().idxmax(),inplace=True)\n",
      "C:\\Users\\srile\\AppData\\Local\\Temp\\ipykernel_20928\\648206534.py:2: FutureWarning: A value is trying to be set on a copy of a DataFrame or Series through chained assignment using an inplace method.\n",
      "The behavior will change in pandas 3.0. This inplace method will never work because the intermediate object on which we are setting values always behaves as a copy.\n",
      "\n",
      "For example, when doing 'df[col].method(value, inplace=True)', try using 'df.method({col: value}, inplace=True)' or df[col] = df[col].method(value) instead, to perform the operation inplace on the original object.\n",
      "\n",
      "\n",
      "  house_train_cat[col].fillna(house_train_cat[col].value_counts().idxmax(),inplace=True)\n",
      "C:\\Users\\srile\\AppData\\Local\\Temp\\ipykernel_20928\\648206534.py:2: FutureWarning: A value is trying to be set on a copy of a DataFrame or Series through chained assignment using an inplace method.\n",
      "The behavior will change in pandas 3.0. This inplace method will never work because the intermediate object on which we are setting values always behaves as a copy.\n",
      "\n",
      "For example, when doing 'df[col].method(value, inplace=True)', try using 'df.method({col: value}, inplace=True)' or df[col] = df[col].method(value) instead, to perform the operation inplace on the original object.\n",
      "\n",
      "\n",
      "  house_train_cat[col].fillna(house_train_cat[col].value_counts().idxmax(),inplace=True)\n",
      "C:\\Users\\srile\\AppData\\Local\\Temp\\ipykernel_20928\\648206534.py:2: FutureWarning: A value is trying to be set on a copy of a DataFrame or Series through chained assignment using an inplace method.\n",
      "The behavior will change in pandas 3.0. This inplace method will never work because the intermediate object on which we are setting values always behaves as a copy.\n",
      "\n",
      "For example, when doing 'df[col].method(value, inplace=True)', try using 'df.method({col: value}, inplace=True)' or df[col] = df[col].method(value) instead, to perform the operation inplace on the original object.\n",
      "\n",
      "\n",
      "  house_train_cat[col].fillna(house_train_cat[col].value_counts().idxmax(),inplace=True)\n",
      "C:\\Users\\srile\\AppData\\Local\\Temp\\ipykernel_20928\\648206534.py:2: FutureWarning: A value is trying to be set on a copy of a DataFrame or Series through chained assignment using an inplace method.\n",
      "The behavior will change in pandas 3.0. This inplace method will never work because the intermediate object on which we are setting values always behaves as a copy.\n",
      "\n",
      "For example, when doing 'df[col].method(value, inplace=True)', try using 'df.method({col: value}, inplace=True)' or df[col] = df[col].method(value) instead, to perform the operation inplace on the original object.\n",
      "\n",
      "\n",
      "  house_train_cat[col].fillna(house_train_cat[col].value_counts().idxmax(),inplace=True)\n",
      "C:\\Users\\srile\\AppData\\Local\\Temp\\ipykernel_20928\\648206534.py:2: FutureWarning: A value is trying to be set on a copy of a DataFrame or Series through chained assignment using an inplace method.\n",
      "The behavior will change in pandas 3.0. This inplace method will never work because the intermediate object on which we are setting values always behaves as a copy.\n",
      "\n",
      "For example, when doing 'df[col].method(value, inplace=True)', try using 'df.method({col: value}, inplace=True)' or df[col] = df[col].method(value) instead, to perform the operation inplace on the original object.\n",
      "\n",
      "\n",
      "  house_train_cat[col].fillna(house_train_cat[col].value_counts().idxmax(),inplace=True)\n",
      "C:\\Users\\srile\\AppData\\Local\\Temp\\ipykernel_20928\\648206534.py:2: FutureWarning: A value is trying to be set on a copy of a DataFrame or Series through chained assignment using an inplace method.\n",
      "The behavior will change in pandas 3.0. This inplace method will never work because the intermediate object on which we are setting values always behaves as a copy.\n",
      "\n",
      "For example, when doing 'df[col].method(value, inplace=True)', try using 'df.method({col: value}, inplace=True)' or df[col] = df[col].method(value) instead, to perform the operation inplace on the original object.\n",
      "\n",
      "\n",
      "  house_train_cat[col].fillna(house_train_cat[col].value_counts().idxmax(),inplace=True)\n"
     ]
    }
   ],
   "source": [
    "for col in [\"GarageCond\",\"GarageQual\",\"GarageFinish\",\"GarageType\",\"BsmtFinType2\",\"BsmtExposure\",\"BsmtFinType1\",\"BsmtQual\",\"BsmtCond\",\"MasVnrType\",\"Electrical\"]:\n",
    "    house_train_cat[col].fillna(house_train_cat[col].value_counts().idxmax(),inplace=True)"
   ]
  },
  {
   "cell_type": "code",
   "execution_count": 16,
   "id": "a6815946-020f-4ef6-8f1c-129faba49e23",
   "metadata": {},
   "outputs": [],
   "source": [
    "df_0 = pd.concat([house_train_cat,h_train_num_col_filtered],axis=1)"
   ]
  },
  {
   "cell_type": "code",
   "execution_count": 17,
   "id": "40cb7d5a-d16e-44ed-911c-c747bee66aee",
   "metadata": {},
   "outputs": [],
   "source": [
    "df_0_num = df_0.select_dtypes(include=[np.number])"
   ]
  },
  {
   "cell_type": "code",
   "execution_count": 18,
   "id": "7d68cc3f-5a6c-44ae-8274-0ee4e7c114a8",
   "metadata": {},
   "outputs": [],
   "source": [
    "df_0_cat =df_0.select_dtypes(include=['object'])"
   ]
  },
  {
   "cell_type": "code",
   "execution_count": 19,
   "id": "66c91161-0aa3-46cb-ba35-52c3e7421549",
   "metadata": {},
   "outputs": [],
   "source": [
    "num_cols = df_0_num.columns\n",
    "cat_cols = df_0_cat.columns"
   ]
  },
  {
   "cell_type": "code",
   "execution_count": 20,
   "id": "f39f3521-e98c-413a-a819-be88ea1edf0a",
   "metadata": {},
   "outputs": [],
   "source": [
    "y = df_0[\"SalePrice\"]\n",
    "X = df_0.drop([\"SalePrice\"],axis=1)"
   ]
  },
  {
   "cell_type": "code",
   "execution_count": 21,
   "id": "7c4191fb-1820-4a35-8927-95ef03a46c6a",
   "metadata": {},
   "outputs": [],
   "source": [
    "X1=pd.get_dummies(X)"
   ]
  },
  {
   "cell_type": "code",
   "execution_count": 22,
   "id": "a08d0faf-d5eb-46dd-ac6d-315d8708ee60",
   "metadata": {},
   "outputs": [
    {
     "data": {
      "text/plain": [
       "61"
      ]
     },
     "execution_count": 22,
     "metadata": {},
     "output_type": "execute_result"
    }
   ],
   "source": [
    "len(X.columns)"
   ]
  },
  {
   "cell_type": "code",
   "execution_count": 23,
   "id": "48cd3c0e-f789-4066-af37-47f431ab1945",
   "metadata": {},
   "outputs": [
    {
     "data": {
      "text/plain": [
       "274"
      ]
     },
     "execution_count": 23,
     "metadata": {},
     "output_type": "execute_result"
    }
   ],
   "source": [
    "len(X1.columns)"
   ]
  },
  {
   "cell_type": "code",
   "execution_count": 24,
   "id": "33ad1bc3-42ea-4323-ac3d-82705eb2e600",
   "metadata": {},
   "outputs": [],
   "source": [
    "x1_max=sorted(list(X1.max()))[-1]"
   ]
  },
  {
   "cell_type": "code",
   "execution_count": 25,
   "id": "da4f58f3-6fe3-4515-8fdb-7d825e2e2e61",
   "metadata": {},
   "outputs": [],
   "source": [
    "y_max=sorted(list(y))[-1]"
   ]
  },
  {
   "cell_type": "code",
   "execution_count": 26,
   "id": "e5265d06-0ddb-496e-ab81-4217d92243d7",
   "metadata": {},
   "outputs": [
    {
     "data": {
      "text/plain": [
       "(6110, 755000)"
      ]
     },
     "execution_count": 26,
     "metadata": {},
     "output_type": "execute_result"
    }
   ],
   "source": [
    "x1_max,y_max"
   ]
  },
  {
   "cell_type": "code",
   "execution_count": 27,
   "id": "77f9d3c6-d1fa-4352-9436-cfbf227e0df4",
   "metadata": {},
   "outputs": [],
   "source": [
    "X1_scale = X1/x1_max"
   ]
  },
  {
   "cell_type": "code",
   "execution_count": 28,
   "id": "9c27c104-c78e-40ef-a770-2feb633d4b0c",
   "metadata": {},
   "outputs": [],
   "source": [
    "y_scale = y/y_max"
   ]
  },
  {
   "cell_type": "code",
   "execution_count": 31,
   "id": "ee84464e-5776-45fc-9fc2-4f3983973e29",
   "metadata": {},
   "outputs": [
    {
     "name": "stdout",
     "output_type": "stream",
     "text": [
      "Defaulting to user installation because normal site-packages is not writeable\n",
      "Requirement already satisfied: torch in c:\\users\\srile\\appdata\\roaming\\python\\python312\\site-packages (2.6.0)\n",
      "Requirement already satisfied: torchvision in c:\\users\\srile\\appdata\\roaming\\python\\python312\\site-packages (0.21.0)\n",
      "Requirement already satisfied: torchaudio in c:\\users\\srile\\appdata\\roaming\\python\\python312\\site-packages (2.6.0)\n",
      "Requirement already satisfied: filelock in c:\\programdata\\anaconda3\\lib\\site-packages (from torch) (3.13.1)\n",
      "Requirement already satisfied: typing-extensions>=4.10.0 in c:\\programdata\\anaconda3\\lib\\site-packages (from torch) (4.11.0)\n",
      "Requirement already satisfied: networkx in c:\\programdata\\anaconda3\\lib\\site-packages (from torch) (3.3)\n",
      "Requirement already satisfied: jinja2 in c:\\programdata\\anaconda3\\lib\\site-packages (from torch) (3.1.4)\n",
      "Requirement already satisfied: fsspec in c:\\programdata\\anaconda3\\lib\\site-packages (from torch) (2024.6.1)\n",
      "Requirement already satisfied: setuptools in c:\\programdata\\anaconda3\\lib\\site-packages (from torch) (75.1.0)\n",
      "Requirement already satisfied: sympy==1.13.1 in c:\\users\\srile\\appdata\\roaming\\python\\python312\\site-packages (from torch) (1.13.1)\n",
      "Requirement already satisfied: mpmath<1.4,>=1.1.0 in c:\\programdata\\anaconda3\\lib\\site-packages (from sympy==1.13.1->torch) (1.3.0)\n",
      "Requirement already satisfied: numpy in c:\\programdata\\anaconda3\\lib\\site-packages (from torchvision) (1.26.4)\n",
      "Requirement already satisfied: pillow!=8.3.*,>=5.3.0 in c:\\programdata\\anaconda3\\lib\\site-packages (from torchvision) (10.4.0)\n",
      "Requirement already satisfied: MarkupSafe>=2.0 in c:\\programdata\\anaconda3\\lib\\site-packages (from jinja2->torch) (2.1.3)\n"
     ]
    }
   ],
   "source": [
    "!pip install torch torchvision torchaudio\n"
   ]
  },
  {
   "cell_type": "code",
   "execution_count": 32,
   "id": "b4641966-ff18-4779-a6cf-2dc444638c25",
   "metadata": {},
   "outputs": [
    {
     "name": "stdout",
     "output_type": "stream",
     "text": [
      "Using PyTorch Version 2.6.0+cpu\n"
     ]
    }
   ],
   "source": [
    "import numpy as np\n",
    "from sklearn.model_selection import train_test_split\n",
    "import matplotlib.pyplot as plt\n",
    "import torch\n",
    "import torch.nn as nn\n",
    "%matplotlib inline\n",
    "print(\"Using PyTorch Version %s\" %torch.__version__)"
   ]
  },
  {
   "cell_type": "code",
   "execution_count": 33,
   "id": "88e76c1a-1e5d-4e76-b5ca-b12e55abab2a",
   "metadata": {},
   "outputs": [],
   "source": [
    "np.random.seed(0)\n",
    "torch.manual_seed(0)\n",
    "\n",
    "X_train, X_test, Y_train, Y_test = train_test_split(X1_scale, y_scale, test_size=0.10, random_state=73)"
   ]
  },
  {
   "cell_type": "code",
   "execution_count": 34,
   "id": "5d907d18-5405-4594-9705-57edf5059b85",
   "metadata": {},
   "outputs": [
    {
     "name": "stdout",
     "output_type": "stream",
     "text": [
      "Sequential(\n",
      "  (0): Linear(in_features=274, out_features=548, bias=True)\n",
      "  (1): ELU(alpha=1.0)\n",
      "  (2): Linear(in_features=548, out_features=137, bias=True)\n",
      "  (3): Tanh()\n",
      "  (4): Linear(in_features=137, out_features=68, bias=True)\n",
      "  (5): ELU(alpha=1.0)\n",
      "  (6): Linear(in_features=68, out_features=1, bias=True)\n",
      "  (7): Sigmoid()\n",
      ")\n"
     ]
    }
   ],
   "source": [
    "# Define network dimensions\n",
    "n_input_dim = X_train.shape[1]\n",
    "# Layer size\n",
    "n_hidden = n_input_dim * 2 # Number of hidden nodes\n",
    "n_hidden1 = int(n_input_dim / 2)\n",
    "n_hidden2 = int(n_input_dim / 4)\n",
    "n_output = 1 # Number of output nodes = for binary classifier\n",
    "\n",
    "# Build your network\n",
    "net = nn.Sequential(\n",
    "    nn.Linear(n_input_dim, n_hidden),\n",
    "    nn.ELU(),\n",
    "    nn.Linear(n_hidden, n_hidden1),\n",
    "    nn.Tanh(),\n",
    "    nn.Linear(n_hidden1, n_hidden2),\n",
    "    nn.ELU(),\n",
    "    nn.Linear(n_hidden2, n_output),\n",
    "     nn.Sigmoid())\n",
    "    \n",
    "print(net)"
   ]
  },
  {
   "cell_type": "code",
   "execution_count": 36,
   "id": "ebd8d5ee-d10b-4495-98ce-5c16c3bb4752",
   "metadata": {},
   "outputs": [],
   "source": [
    "loss_func = nn.BCELoss()\n",
    "learning_rate = 0.01\n",
    "optimizer = torch.optim.Adam(net.parameters(), lr=learning_rate)"
   ]
  },
  {
   "cell_type": "code",
   "execution_count": 46,
   "id": "4cc392e9-ff58-4057-a0a5-09ea16b0a9f7",
   "metadata": {},
   "outputs": [
    {
     "data": {
      "image/png": "[encoded data removed]",
      "text/plain": [
       "<Figure size 800x500 with 1 Axes>"
      ]
     },
     "metadata": {},
     "output_type": "display_data"
    }
   ],
   "source": [
    "import torch\n",
    "import matplotlib.pyplot as plt\n",
    "\n",
    "train_loss = []\n",
    "iters = 200  # Number of training iterations\n",
    "\n",
    "# Convert dataset to tensors once before the loop\n",
    "X_train_t = torch.from_numpy(X_train.values).float()\n",
    "Y_train_t = torch.from_numpy(Y_train.values).float().unsqueeze(1)  # Ensure shape matches y_hat\n",
    "\n",
    "for i in range(iters):\n",
    "    optimizer.zero_grad()  # Reset gradients\n",
    "\n",
    "    # Forward pass\n",
    "    y_hat = net(X_train_t)  # Predict outputs\n",
    "\n",
    "    # Compute loss\n",
    "    loss = loss_func(y_hat, Y_train_t)\n",
    "\n",
    "    # Backward pass\n",
    "    loss.backward()\n",
    "    optimizer.step()\n",
    "\n",
    "    # Store loss\n",
    "    train_loss.append(loss.item())\n",
    "\n",
    "# Plot training loss\n",
    "fig, ax = plt.subplots(figsize=(8, 5))\n",
    "ax.plot(train_loss, label=\"Training Loss\", color=\"blue\")\n",
    "ax.set_ylabel(\"Loss\")\n",
    "ax.set_xlabel(\"Iterations\")\n",
    "ax.set_title(\"Training Loss Over Iterations\")\n",
    "ax.legend()\n",
    "\n",
    "plt.tight_layout()\n",
    "plt.show()\n"
   ]
  },
  {
   "cell_type": "code",
   "execution_count": 47,
   "id": "02561984-67bb-478b-bf49-b11615c30d70",
   "metadata": {},
   "outputs": [],
   "source": [
    "X_test_t = torch.from_numpy(X_test.values)\n",
    "y_hat_test = net(X_test_t.float())"
   ]
  },
  {
   "cell_type": "code",
   "execution_count": 48,
   "id": "5f22e489-e172-403d-934c-22145436e9fa",
   "metadata": {},
   "outputs": [],
   "source": [
    "from sklearn.metrics import r2_score"
   ]
  },
  {
   "cell_type": "code",
   "execution_count": 49,
   "id": "92e2b0c8-6df4-4147-a916-a2c5d806e224",
   "metadata": {},
   "outputs": [
    {
     "data": {
      "text/plain": [
       "0.7244720469386279"
      ]
     },
     "execution_count": 49,
     "metadata": {},
     "output_type": "execute_result"
    }
   ],
   "source": [
    "r2_score(Y_test,y_hat_test.detach().numpy())"
   ]
  },
  {
   "cell_type": "code",
   "execution_count": null,
   "id": "c781206b-9a47-4909-922b-271ce0e3c31e",
   "metadata": {},
   "outputs": [],
   "source": []
  }
 ],
 "metadata": {
  "kernelspec": {
   "display_name": "Python 3 (ipykernel)",
   "language": "python",
   "name": "python3"
  },
  "language_info": {
   "codemirror_mode": {
    "name": "ipython",
    "version": 3
   },
   "file_extension": ".py",
   "mimetype": "text/x-python",
   "name": "python",
   "nbconvert_exporter": "python",
   "pygments_lexer": "ipython3",
   "version": "3.12.7"
  }
 },
 "nbformat": 4,
 "nbformat_minor": 5
}
